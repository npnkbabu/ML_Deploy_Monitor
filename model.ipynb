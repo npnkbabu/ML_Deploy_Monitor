{
 "cells": [
  {
   "cell_type": "code",
   "execution_count": 21,
   "id": "fabulous-listening",
   "metadata": {},
   "outputs": [],
   "source": [
    "import numpy as np\n",
    "import pandas as pd\n",
    "import os\n",
    "from sklearn.preprocessing import StandardScaler\n",
    "from sklearn.linear_model import LinearRegression\n",
    "from sklearn.model_selection import train_test_split\n",
    "from sklearn.pipeline import Pipeline\n",
    "import pickle\n",
    "\n",
    "dataFilePath = './data/data.csv'"
   ]
  },
  {
   "cell_type": "code",
   "execution_count": 4,
   "id": "cooperative-coach",
   "metadata": {},
   "outputs": [
    {
     "output_type": "execute_result",
     "data": {
      "text/plain": [
       "   Height  Weight\n",
       "0    1.47   52.21\n",
       "1    1.50   53.12\n",
       "2    1.52   54.48\n",
       "3    1.55   55.84\n",
       "4    1.57   57.20"
      ],
      "text/html": "<div>\n<style scoped>\n    .dataframe tbody tr th:only-of-type {\n        vertical-align: middle;\n    }\n\n    .dataframe tbody tr th {\n        vertical-align: top;\n    }\n\n    .dataframe thead th {\n        text-align: right;\n    }\n</style>\n<table border=\"1\" class=\"dataframe\">\n  <thead>\n    <tr style=\"text-align: right;\">\n      <th></th>\n      <th>Height</th>\n      <th>Weight</th>\n    </tr>\n  </thead>\n  <tbody>\n    <tr>\n      <th>0</th>\n      <td>1.47</td>\n      <td>52.21</td>\n    </tr>\n    <tr>\n      <th>1</th>\n      <td>1.50</td>\n      <td>53.12</td>\n    </tr>\n    <tr>\n      <th>2</th>\n      <td>1.52</td>\n      <td>54.48</td>\n    </tr>\n    <tr>\n      <th>3</th>\n      <td>1.55</td>\n      <td>55.84</td>\n    </tr>\n    <tr>\n      <th>4</th>\n      <td>1.57</td>\n      <td>57.20</td>\n    </tr>\n  </tbody>\n</table>\n</div>"
     },
     "metadata": {},
     "execution_count": 4
    }
   ],
   "source": [
    "df = pd.read_csv(dataFilePath)\n",
    "df.head()\n",
    "#height is independent variable and weight is dependent varible"
   ]
  },
  {
   "cell_type": "code",
   "execution_count": 8,
   "metadata": {},
   "outputs": [],
   "source": [
    "pipe = Pipeline(steps=[('preprocess',StandardScaler()),('model',LinearRegression())])"
   ]
  },
  {
   "cell_type": "code",
   "execution_count": 12,
   "metadata": {},
   "outputs": [],
   "source": [
    "X = df.iloc[:,:-1].values\n",
    "y = df.iloc[:,-1].values\n",
    "X_train,X_test,y_train,y_test = train_test_split(X,y,random_state=10,test_size=0.2)"
   ]
  },
  {
   "cell_type": "code",
   "execution_count": 13,
   "metadata": {},
   "outputs": [
    {
     "output_type": "stream",
     "name": "stdout",
     "text": [
      "0.9928354836313349\n"
     ]
    }
   ],
   "source": [
    "pipe.fit(X_train,y_train)\n",
    "score = pipe.score(X_test,y_test)\n",
    "print(score)"
   ]
  },
  {
   "cell_type": "code",
   "execution_count": 20,
   "metadata": {},
   "outputs": [
    {
     "output_type": "execute_result",
     "data": {
      "text/plain": [
       "array([55.9815964])"
      ]
     },
     "metadata": {},
     "execution_count": 20
    }
   ],
   "source": [
    "my_test =np.array(1.55).reshape(-1,1)\n",
    "pipe.predict(my_test)"
   ]
  },
  {
   "cell_type": "code",
   "execution_count": 23,
   "metadata": {},
   "outputs": [],
   "source": [
    "with open('height_weight.pkl','wb') as pi:\n",
    "    pickle.dump(pipe,pi)"
   ]
  },
  {
   "cell_type": "code",
   "execution_count": null,
   "metadata": {},
   "outputs": [],
   "source": [
    "#http://127.0.0.1:5000/predict?1.3"
   ]
  }
 ],
 "metadata": {
  "kernelspec": {
   "display_name": ".venv",
   "language": "python",
   "name": ".venv"
  },
  "language_info": {
   "codemirror_mode": {
    "name": "ipython",
    "version": 3
   },
   "file_extension": ".py",
   "mimetype": "text/x-python",
   "name": "python",
   "nbconvert_exporter": "python",
   "pygments_lexer": "ipython3",
   "version": "3.8.5"
  }
 },
 "nbformat": 4,
 "nbformat_minor": 5
}